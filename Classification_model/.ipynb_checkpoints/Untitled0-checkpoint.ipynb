{
 "metadata": {
  "name": "",
  "signature": "sha256:10e298ba02c73b7d3a201261f7d6ab780fe63bfb66cb0dd8b643a2ed6e07fee2"
 },
 "nbformat": 3,
 "nbformat_minor": 0,
 "worksheets": [
  {
   "cells": [
    {
     "cell_type": "code",
     "collapsed": false,
     "input": [
      "import pandas as pd"
     ],
     "language": "python",
     "metadata": {},
     "outputs": [],
     "prompt_number": 1
    },
    {
     "cell_type": "code",
     "collapsed": false,
     "input": [
      "x = pd.read_csv('Data/allData.equltfi.1d.2002.train.csv')"
     ],
     "language": "python",
     "metadata": {},
     "outputs": [],
     "prompt_number": 3
    },
    {
     "cell_type": "code",
     "collapsed": false,
     "input": [
      "z = x['date']"
     ],
     "language": "python",
     "metadata": {},
     "outputs": [],
     "prompt_number": 17
    },
    {
     "cell_type": "code",
     "collapsed": false,
     "input": [
      "y = []\n",
      "for i in z:\n",
      "    if '1997' in str(i):\n",
      "        y.append(i)"
     ],
     "language": "python",
     "metadata": {},
     "outputs": [],
     "prompt_number": 34
    },
    {
     "cell_type": "code",
     "collapsed": false,
     "input": [
      "import numpy as np\n",
      "x.columns"
     ],
     "language": "python",
     "metadata": {},
     "outputs": [
      {
       "metadata": {},
       "output_type": "pyout",
       "prompt_number": 46,
       "text": [
        "Index([u'globalIndex', u'Didx', u'date', u'open', u'high', u'low', u'close', u'roll', u'ret1', u'gkm1_250', u'gkm2_250', u'gkm3_250', u'gkm5_250', u'gkm10_250', u'gkm20_250', u'gkm30_250', u'gks10_250', u'gks20_250', u'gks30_250', u'gksdv5', u'gksdv10', u'gksdv20', u'gksdv30', u'gkmdv5', u'gkmdv10', u'gkmdv20', u'gkmdv30', u'ror5z', u'ror10z', u'ror20z', u'ror30z', u'ror40z', u'ror60z', u'rcp5z', u'rcp10z', u'rcp20z', u'rcp30z', u'rcp40z', u'rcp60z', u'brk80', u'maEx44_14norm', u'maEx58_18norm', u'maEx72_22norm', u'maEx86_26norm', u'maEx114_34norm', u'ma10_5norm', u'ma20_5norm', u'ma30_10norm', u'ma30_100norm', u'ma10_1norm', u'ma30_1norm', u'ma100_1norm', u'ma200_1norm', u'ma200_5norm', u'ma200_10norm', u'ma200_30norm', u'ma200_50norm', u'ma200_100norm', u'mad5', u'mad10', u'mad20', u'mad30', u'p1d', u'p2d', u'p5d', u'p10d', u'p15d', u'p30d', u'p60d', u'cp2', u'cp3', u'cp5', u'cp10', u'cp20', u'cp30', u'cpRaw2', u'cpRaw3', u'cpRaw5', u'cpRaw10', u'cpRaw20', u'cpRaw30', u'op5', u'op10', u'op20', u'op30', u'opRaw5', u'opRaw10', u'opRaw20', u'opRaw30', u'o2c2', u'o2c3', u'o2c5', u'o2c10', u'o2c20', u'o2c30', u'cptr5', u'cptr10', u'cptr20', u'cptr30', u'optr5', ...], dtype='object')"
       ]
      }
     ],
     "prompt_number": 46
    },
    {
     "cell_type": "code",
     "collapsed": false,
     "input": [
      "dates = np.sort(np.unique(y))"
     ],
     "language": "python",
     "metadata": {},
     "outputs": [],
     "prompt_number": 42
    },
    {
     "cell_type": "code",
     "collapsed": false,
     "input": [
      "import numpy as np\n",
      "\n",
      "q = [np.array(x.index), dates]"
     ],
     "language": "python",
     "metadata": {},
     "outputs": [],
     "prompt_number": 43
    },
    {
     "cell_type": "code",
     "collapsed": false,
     "input": [
      "new_df = x.set_index('date', drop = False)"
     ],
     "language": "python",
     "metadata": {},
     "outputs": [],
     "prompt_number": 142
    },
    {
     "cell_type": "code",
     "collapsed": false,
     "input": [
      "new_df.index.name = None"
     ],
     "language": "python",
     "metadata": {},
     "outputs": [],
     "prompt_number": 143
    },
    {
     "cell_type": "code",
     "collapsed": false,
     "input": [
      "z = new_df.groupby(new_df.index)\n",
      "vals = z.groups.keys()\n",
      "\n",
      "\n",
      "def mods(x):\n",
      "    return int(x/10000)\n",
      "new_col = map(mods, vals)\n"
     ],
     "language": "python",
     "metadata": {},
     "outputs": [],
     "prompt_number": 144
    },
    {
     "cell_type": "code",
     "collapsed": false,
     "input": [],
     "language": "python",
     "metadata": {},
     "outputs": [],
     "prompt_number": 144
    },
    {
     "cell_type": "code",
     "collapsed": false,
     "input": [
      "len(new_col)"
     ],
     "language": "python",
     "metadata": {},
     "outputs": [
      {
       "metadata": {},
       "output_type": "pyout",
       "prompt_number": 145,
       "text": [
        "6742"
       ]
      }
     ],
     "prompt_number": 145
    },
    {
     "cell_type": "code",
     "collapsed": false,
     "input": [
      "newer_df = pd.DataFrame(new_col, index = vals, columns=['years'])"
     ],
     "language": "python",
     "metadata": {},
     "outputs": [],
     "prompt_number": 146
    },
    {
     "cell_type": "code",
     "collapsed": false,
     "input": [
      "Final_dataset = pd.merge(new_df, newer_df, left_index = True, right_index = True)\n",
      "dates = Final_dataset.index\n",
      "\n",
      "\n",
      "\n"
     ],
     "language": "python",
     "metadata": {},
     "outputs": [],
     "prompt_number": 147
    },
    {
     "cell_type": "code",
     "collapsed": false,
     "input": [],
     "language": "python",
     "metadata": {},
     "outputs": [],
     "prompt_number": 147
    },
    {
     "cell_type": "code",
     "collapsed": false,
     "input": [
      "F = Final_dataset.set_index('years')"
     ],
     "language": "python",
     "metadata": {},
     "outputs": [],
     "prompt_number": 148
    },
    {
     "cell_type": "code",
     "collapsed": false,
     "input": [
      "F.to_csv('Final_new_dataset.csv', index_label = 'Years')"
     ],
     "language": "python",
     "metadata": {},
     "outputs": []
    },
    {
     "cell_type": "code",
     "collapsed": false,
     "input": [],
     "language": "python",
     "metadata": {},
     "outputs": []
    }
   ],
   "metadata": {}
  }
 ]
}