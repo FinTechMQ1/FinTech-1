{
 "cells": [
  {
   "cell_type": "code",
   "execution_count": 280,
   "metadata": {
    "collapsed": true
   },
   "outputs": [],
   "source": [
    "import pandas as pd\n",
    "import numpy as np"
   ]
  },
  {
   "cell_type": "code",
   "execution_count": 251,
   "metadata": {
    "collapsed": false
   },
   "outputs": [
    {
     "name": "stdout",
     "output_type": "stream",
     "text": [
      "20\n"
     ]
    }
   ],
   "source": [
    "data = pd.read_csv('Data.all.csv', index_col = 'Year')\n",
    "cols = data.columns[:-1]\n",
    "print len(cols)\n",
    "datas = data[cols]\n",
    "datas['zzpred'] = data['es']"
   ]
  },
  {
   "cell_type": "code",
   "execution_count": 249,
   "metadata": {
    "collapsed": false
   },
   "outputs": [],
   "source": [
    "Train = [1989,1990,1991,1992,1993,1994,1995,1996,1997,1998,1999,2000]\n",
    "Valid = [2001,2002,2003,2004]\n",
    "Test = [2005,2006,2007]\n",
    "window = 5\n"
   ]
  },
  {
   "cell_type": "code",
   "execution_count": 279,
   "metadata": {
    "collapsed": false
   },
   "outputs": [],
   "source": [
    "pred_array = pd.DataFrame(np.zeros((len(datas) - window, 2)))\n",
    "final_array = np.zeros((len(datas)-window, 20*window))\n",
    "for i in range(len(datas) - window -1):\n",
    "\n",
    "    lists = []\n",
    "    for w in range(window):\n",
    "        lists.append(datas.iloc[w+i])\n",
    "    window_data = pd.Series()\n",
    "    for v in lists:\n",
    "        window_data = window_data.append(v)\n",
    "    final_array[i] = np.array(window_data)\n",
    "    pred_array.loc[i] = np.array(data.iloc[w+i+1][['date', 'zzpred']])\n",
    "    \n",
    "    \n",
    "    "
   ]
  },
  {
   "cell_type": "code",
   "execution_count": 277,
   "metadata": {
    "collapsed": false
   },
   "outputs": [
    {
     "data": {
      "text/plain": [
       "array([[ 0.,  0.,  0., ...,  0.,  0.,  0.],\n",
       "       [ 0.,  1.,  0., ...,  1.,  1.,  1.],\n",
       "       [ 0.,  0.,  0., ...,  0.,  0.,  0.],\n",
       "       ..., \n",
       "       [ 0.,  1.,  1., ...,  1.,  1.,  0.],\n",
       "       [ 0.,  1.,  0., ...,  1.,  1.,  0.],\n",
       "       [ 1.,  1.,  1., ...,  1.,  1.,  0.]])"
      ]
     },
     "execution_count": 277,
     "metadata": {},
     "output_type": "execute_result"
    }
   ],
   "source": [
    "final_array"
   ]
  },
  {
   "cell_type": "code",
   "execution_count": null,
   "metadata": {
    "collapsed": true
   },
   "outputs": [],
   "source": []
  }
 ],
 "metadata": {
  "kernelspec": {
   "display_name": "Python 2",
   "language": "python",
   "name": "python2"
  },
  "language_info": {
   "codemirror_mode": {
    "name": "ipython",
    "version": 2
   },
   "file_extension": ".py",
   "mimetype": "text/x-python",
   "name": "python",
   "nbconvert_exporter": "python",
   "pygments_lexer": "ipython2",
   "version": "2.7.9"
  }
 },
 "nbformat": 4,
 "nbformat_minor": 0
}
